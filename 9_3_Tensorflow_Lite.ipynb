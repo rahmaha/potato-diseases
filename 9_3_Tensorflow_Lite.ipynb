{
  "cells": [
    {
      "cell_type": "markdown",
      "metadata": {
        "id": "dXJN01zcm2_5"
      },
      "source": [
        "Module 9 part of Tensorflow Lite"
      ]
    },
    {
      "cell_type": "code",
      "execution_count": 2,
      "metadata": {
        "id": "5kCQaPIumu4r"
      },
      "outputs": [],
      "source": [
        "import tensorflow as tf\n",
        "from tensorflow import keras"
      ]
    },
    {
      "cell_type": "code",
      "execution_count": 3,
      "metadata": {
        "id": "eZ9NHBgNn_P9"
      },
      "outputs": [],
      "source": [
        "model = keras.models.load_model('clothing-model.h5')"
      ]
    },
    {
      "cell_type": "code",
      "execution_count": 4,
      "metadata": {
        "colab": {
          "base_uri": "https://localhost:8080/"
        },
        "id": "DWO_ajcDoRUN",
        "outputId": "a290e28f-71c3-4c76-c234-f2d342e530b7"
      },
      "outputs": [
        {
          "name": "stdout",
          "output_type": "stream",
          "text": [
            "--2023-11-27 07:15:16--  http://bit.ly/mlbookcamp-pants\n",
            "Resolving bit.ly (bit.ly)... 67.199.248.11, 67.199.248.10\n",
            "Connecting to bit.ly (bit.ly)|67.199.248.11|:80... connected.\n",
            "HTTP request sent, awaiting response... 301 Moved Permanently\n",
            "Location: https://raw.githubusercontent.com/alexeygrigorev/clothing-dataset-small/master/test/pants/4aabd82c-82e1-4181-a84d-d0c6e550d26d.jpg [following]\n",
            "--2023-11-27 07:15:16--  https://raw.githubusercontent.com/alexeygrigorev/clothing-dataset-small/master/test/pants/4aabd82c-82e1-4181-a84d-d0c6e550d26d.jpg\n",
            "Resolving raw.githubusercontent.com (raw.githubusercontent.com)... 185.199.110.133, 185.199.108.133, 185.199.111.133, ...\n",
            "Connecting to raw.githubusercontent.com (raw.githubusercontent.com)|185.199.110.133|:443... connected.\n",
            "HTTP request sent, awaiting response... 200 OK\n",
            "Length: 23048 (23K) [image/jpeg]\n",
            "Saving to: ‘pants.jpg’\n",
            "\n",
            "pants.jpg           100%[===================>]  22.51K  --.-KB/s    in 0.001s  \n",
            "\n",
            "2023-11-27 07:15:16 (15.8 MB/s) - ‘pants.jpg’ saved [23048/23048]\n",
            "\n"
          ]
        }
      ],
      "source": [
        "#download the picture\n",
        "!wget http://bit.ly/mlbookcamp-pants -O pants.jpg"
      ]
    },
    {
      "cell_type": "code",
      "execution_count": 8,
      "metadata": {
        "id": "XVS28s5Eod4I"
      },
      "outputs": [],
      "source": [
        "from tensorflow.keras.preprocessing.image import load_img\n",
        "from tensorflow.keras.applications.xception import preprocess_input\n",
        "import numpy as np\n"
      ]
    },
    {
      "cell_type": "code",
      "execution_count": 7,
      "metadata": {
        "id": "chmlwqQdoknv"
      },
      "outputs": [],
      "source": [
        "img = load_img('pants.jpg', target_size=(299,299))"
      ]
    },
    {
      "cell_type": "code",
      "execution_count": 9,
      "metadata": {
        "id": "78uZ-DQfpEUc"
      },
      "outputs": [],
      "source": [
        "X = np.array(img)\n",
        "X = np.array([X])\n",
        "\n",
        "X = preprocess_input(X)"
      ]
    },
    {
      "cell_type": "code",
      "execution_count": 10,
      "metadata": {
        "colab": {
          "base_uri": "https://localhost:8080/"
        },
        "id": "oqm5GZn7pNoW",
        "outputId": "3f6d61b6-5cb0-4607-f588-8f7b59267db5"
      },
      "outputs": [
        {
          "name": "stdout",
          "output_type": "stream",
          "text": [
            "1/1 [==============================] - 2s 2s/step\n"
          ]
        }
      ],
      "source": [
        "preds = model.predict(X)"
      ]
    },
    {
      "cell_type": "code",
      "execution_count": 12,
      "metadata": {
        "colab": {
          "base_uri": "https://localhost:8080/"
        },
        "id": "JHRtCeUsp2Rv",
        "outputId": "aefbf8ac-c05f-400c-8926-33d8a554beba"
      },
      "outputs": [
        {
          "data": {
            "text/plain": [
              "{'dress': -1.8798649,\n",
              " 'hat': -4.7563114,\n",
              " 'longsleeve': -2.359532,\n",
              " 'outwear': -1.0892639,\n",
              " 'pants': 9.903785,\n",
              " 'shirt': -2.8261807,\n",
              " 'shoes': -3.648312,\n",
              " 'shorts': 3.2411556,\n",
              " 'skirt': -2.612096,\n",
              " 't-shirt': -4.8520355}"
            ]
          },
          "execution_count": 12,
          "metadata": {},
          "output_type": "execute_result"
        }
      ],
      "source": [
        "classes = [\n",
        "    'dress',\n",
        "    'hat',\n",
        "    'longsleeve',\n",
        "    'outwear',\n",
        "    'pants',\n",
        "    'shirt',\n",
        "    'shoes',\n",
        "    'shorts',\n",
        "    'skirt',\n",
        "    't-shirt'\n",
        "]\n",
        "\n",
        "dict(zip(classes, preds[0]))"
      ]
    },
    {
      "cell_type": "markdown",
      "metadata": {
        "id": "tNvjnEolp-Ve"
      },
      "source": [
        "## Convert keras to TF-Lite"
      ]
    },
    {
      "cell_type": "code",
      "execution_count": 13,
      "metadata": {
        "id": "Ox0PP2n9qCX0"
      },
      "outputs": [],
      "source": [
        "converter = tf.lite.TFLiteConverter.from_keras_model(model)\n",
        "tflite_model = converter.convert()\n",
        "\n",
        "with open('clothing-model.tflite', 'wb') as f_out:\n",
        "  f_out.write(tflite_model)"
      ]
    },
    {
      "cell_type": "code",
      "execution_count": 14,
      "metadata": {
        "id": "5IihlZksqxZV"
      },
      "outputs": [],
      "source": [
        "import tensorflow.lite as tflite"
      ]
    },
    {
      "cell_type": "code",
      "execution_count": 15,
      "metadata": {
        "id": "TbJqyf7Nrfp0"
      },
      "outputs": [],
      "source": [
        "interpreter = tflite.Interpreter(model_path='clothing-model.tflite')\n",
        "interpreter.allocate_tensors()"
      ]
    },
    {
      "cell_type": "code",
      "execution_count": 17,
      "metadata": {
        "colab": {
          "base_uri": "https://localhost:8080/"
        },
        "id": "XbpjFvG4rzcx",
        "outputId": "ec372cf7-c236-4aeb-bba0-628c2a69fd93"
      },
      "outputs": [
        {
          "data": {
            "text/plain": [
              "[{'name': 'serving_default_input_8:0',\n",
              "  'index': 0,\n",
              "  'shape': array([  1, 299, 299,   3], dtype=int32),\n",
              "  'shape_signature': array([ -1, 299, 299,   3], dtype=int32),\n",
              "  'dtype': numpy.float32,\n",
              "  'quantization': (0.0, 0),\n",
              "  'quantization_parameters': {'scales': array([], dtype=float32),\n",
              "   'zero_points': array([], dtype=int32),\n",
              "   'quantized_dimension': 0},\n",
              "  'sparsity_parameters': {}}]"
            ]
          },
          "execution_count": 17,
          "metadata": {},
          "output_type": "execute_result"
        }
      ],
      "source": [
        "interpreter.get_input_details()"
      ]
    },
    {
      "cell_type": "code",
      "execution_count": 18,
      "metadata": {
        "id": "y_Z2iP_YuNZS"
      },
      "outputs": [],
      "source": [
        "input_index = interpreter.get_input_details()[0]['index']"
      ]
    },
    {
      "cell_type": "code",
      "execution_count": 19,
      "metadata": {
        "colab": {
          "base_uri": "https://localhost:8080/"
        },
        "id": "-xTQHfmsuWyw",
        "outputId": "d9f94dc6-4882-4d45-9381-1829c6a491ad"
      },
      "outputs": [
        {
          "data": {
            "text/plain": [
              "[{'name': 'StatefulPartitionedCall:0',\n",
              "  'index': 229,\n",
              "  'shape': array([ 1, 10], dtype=int32),\n",
              "  'shape_signature': array([-1, 10], dtype=int32),\n",
              "  'dtype': numpy.float32,\n",
              "  'quantization': (0.0, 0),\n",
              "  'quantization_parameters': {'scales': array([], dtype=float32),\n",
              "   'zero_points': array([], dtype=int32),\n",
              "   'quantized_dimension': 0},\n",
              "  'sparsity_parameters': {}}]"
            ]
          },
          "execution_count": 19,
          "metadata": {},
          "output_type": "execute_result"
        }
      ],
      "source": [
        "#need to see the output too\n",
        "interpreter.get_output_details()"
      ]
    },
    {
      "cell_type": "code",
      "execution_count": 20,
      "metadata": {
        "id": "62g_9Tx8uqZl"
      },
      "outputs": [],
      "source": [
        "output_index = interpreter.get_output_details()[0]['index']"
      ]
    },
    {
      "cell_type": "code",
      "execution_count": 23,
      "metadata": {
        "id": "Hpc56qg5u1uj"
      },
      "outputs": [],
      "source": [
        "interpreter.set_tensor(input_index, X)\n",
        "interpreter.invoke()\n",
        "preds = interpreter.get_tensor(output_index)"
      ]
    },
    {
      "cell_type": "code",
      "execution_count": 24,
      "metadata": {
        "colab": {
          "base_uri": "https://localhost:8080/"
        },
        "id": "m33Y6udLvV8j",
        "outputId": "1fd34213-8945-4e38-ece1-a807706d8dab"
      },
      "outputs": [
        {
          "data": {
            "text/plain": [
              "{'dress': -1.8798652,\n",
              " 'hat': -4.7563086,\n",
              " 'longsleeve': -2.3595319,\n",
              " 'outwear': -1.0892631,\n",
              " 'pants': 9.903782,\n",
              " 'shirt': -2.8261807,\n",
              " 'shoes': -3.648309,\n",
              " 'shorts': 3.2411587,\n",
              " 'skirt': -2.6120942,\n",
              " 't-shirt': -4.8520336}"
            ]
          },
          "execution_count": 24,
          "metadata": {},
          "output_type": "execute_result"
        }
      ],
      "source": [
        "#now try to predict\n",
        "classes = [\n",
        "    'dress',\n",
        "    'hat',\n",
        "    'longsleeve',\n",
        "    'outwear',\n",
        "    'pants',\n",
        "    'shirt',\n",
        "    'shoes',\n",
        "    'shorts',\n",
        "    'skirt',\n",
        "    't-shirt'\n",
        "]\n",
        "\n",
        "dict(zip(classes, preds[0]))"
      ]
    },
    {
      "cell_type": "markdown",
      "metadata": {
        "id": "DJKZz_2WwM1Q"
      },
      "source": [
        "## Removing TF Dependency"
      ]
    },
    {
      "cell_type": "code",
      "execution_count": 25,
      "metadata": {
        "id": "ykmIAcdKwmVh"
      },
      "outputs": [],
      "source": [
        "#to change the load_img (aka write from scratch)\n",
        "#before: img = load_img('pants.jpg', target_size=(299,299))\n",
        "#after:\n",
        "\n",
        "from PIL import Image\n",
        "\n",
        "with Image.open('pants.jpg') as img:\n",
        "  img = img.resize((299, 299), Image.NEAREST)"
      ]
    },
    {
      "cell_type": "code",
      "execution_count": 26,
      "metadata": {
        "id": "K3TbL9WLxrSs"
      },
      "outputs": [],
      "source": [
        "#now write from scratch for preprocess_input()\n",
        "\n",
        "def preprocess_input(x):\n",
        "  x /= 127.5\n",
        "  x -= 1.\n",
        "  return x"
      ]
    },
    {
      "cell_type": "code",
      "execution_count": 29,
      "metadata": {
        "id": "5lDssQZ5vsaO"
      },
      "outputs": [],
      "source": [
        "X = np.array(img, dtype = 'float32')\n",
        "X = np.array([X])\n",
        "\n",
        "X = preprocess_input(X)"
      ]
    },
    {
      "cell_type": "code",
      "execution_count": 30,
      "metadata": {
        "colab": {
          "base_uri": "https://localhost:8080/"
        },
        "id": "igbfAgrgyWBx",
        "outputId": "64727b30-2336-4a6b-f1ac-54fa3df9344a"
      },
      "outputs": [
        {
          "data": {
            "text/plain": [
              "{'dress': -1.8798652,\n",
              " 'hat': -4.7563086,\n",
              " 'longsleeve': -2.3595319,\n",
              " 'outwear': -1.0892631,\n",
              " 'pants': 9.903782,\n",
              " 'shirt': -2.8261807,\n",
              " 'shoes': -3.648309,\n",
              " 'shorts': 3.2411587,\n",
              " 'skirt': -2.6120942,\n",
              " 't-shirt': -4.8520336}"
            ]
          },
          "execution_count": 30,
          "metadata": {},
          "output_type": "execute_result"
        }
      ],
      "source": [
        "#now try to predict\n",
        "classes = [\n",
        "    'dress',\n",
        "    'hat',\n",
        "    'longsleeve',\n",
        "    'outwear',\n",
        "    'pants',\n",
        "    'shirt',\n",
        "    'shoes',\n",
        "    'shorts',\n",
        "    'skirt',\n",
        "    't-shirt'\n",
        "]\n",
        "\n",
        "dict(zip(classes, preds[0]))"
      ]
    },
    {
      "cell_type": "markdown",
      "metadata": {
        "id": "TKpJXl5Eyglj"
      },
      "source": [
        "## Simpler doing of removing tf depedency"
      ]
    },
    {
      "cell_type": "code",
      "execution_count": 31,
      "metadata": {
        "colab": {
          "base_uri": "https://localhost:8080/"
        },
        "id": "PZ8wTE6eylrT",
        "outputId": "fa728bfa-603f-4f6c-9a86-bd442a7b92a1"
      },
      "outputs": [
        {
          "name": "stdout",
          "output_type": "stream",
          "text": [
            "Collecting keras-image-helper\n",
            "  Downloading keras_image_helper-0.0.1-py3-none-any.whl (4.6 kB)\n",
            "Requirement already satisfied: numpy in /usr/local/lib/python3.10/dist-packages (from keras-image-helper) (1.23.5)\n",
            "Requirement already satisfied: pillow in /usr/local/lib/python3.10/dist-packages (from keras-image-helper) (9.4.0)\n",
            "Installing collected packages: keras-image-helper\n",
            "Successfully installed keras-image-helper-0.0.1\n"
          ]
        }
      ],
      "source": [
        "!pip install keras-image-helper"
      ]
    },
    {
      "cell_type": "code",
      "execution_count": 34,
      "metadata": {
        "colab": {
          "base_uri": "https://localhost:8080/"
        },
        "id": "QNV6rQOm7fST",
        "outputId": "08139515-3d55-4bb8-ce49-c97f8f8f6582"
      },
      "outputs": [
        {
          "name": "stdout",
          "output_type": "stream",
          "text": [
            "Looking in indexes: https://pypi.org/simple, https://google-coral.github.io/py-repo/\n",
            "Collecting tflite_runtime\n",
            "  Downloading tflite_runtime-2.14.0-cp310-cp310-manylinux2014_x86_64.whl (2.4 MB)\n",
            "\u001b[2K     \u001b[90m━━━━━━━━━━━━━━━━━━━━━━━━━━━━━━━━━━━━━━━━\u001b[0m \u001b[32m2.4/2.4 MB\u001b[0m \u001b[31m12.6 MB/s\u001b[0m eta \u001b[36m0:00:00\u001b[0m\n",
            "\u001b[?25hRequirement already satisfied: numpy>=1.23.2 in /usr/local/lib/python3.10/dist-packages (from tflite_runtime) (1.23.5)\n",
            "Installing collected packages: tflite_runtime\n",
            "Successfully installed tflite_runtime-2.14.0\n"
          ]
        }
      ],
      "source": [
        "!pip install --extra-index-url https://google-coral.github.io/py-repo/ tflite_runtime"
      ]
    },
    {
      "cell_type": "code",
      "execution_count": 35,
      "metadata": {
        "id": "Us2fJPQFzff1"
      },
      "outputs": [],
      "source": [
        "\n",
        "#import tensorflow.lite as tflite\n",
        "import tflite_runtime.interpreter as tflite\n",
        "from keras_image_helper import create_preprocessor"
      ]
    },
    {
      "cell_type": "code",
      "execution_count": 36,
      "metadata": {
        "id": "-s1fntuH8DJr"
      },
      "outputs": [],
      "source": [
        "interpreter = tflite.Interpreter(model_path='clothing-model.tflite')\n",
        "interpreter.allocate_tensors()\n",
        "\n",
        "input_index = interpreter.get_input_details()[0]['index']\n",
        "output_index = interpreter.get_output_details()[0]['index']"
      ]
    },
    {
      "cell_type": "code",
      "execution_count": 37,
      "metadata": {
        "id": "2r8YNmUh8GMR"
      },
      "outputs": [],
      "source": [
        "preprocessor = create_preprocessor('xception', target_size=(299, 299))"
      ]
    },
    {
      "cell_type": "code",
      "execution_count": 38,
      "metadata": {
        "id": "JncVQ5V58Ikp"
      },
      "outputs": [],
      "source": [
        "url = 'http://bit.ly/mlbookcamp-pants'\n",
        "X = preprocessor.from_url(url)"
      ]
    },
    {
      "cell_type": "code",
      "execution_count": 39,
      "metadata": {
        "id": "UYI5LxFy8LAJ"
      },
      "outputs": [],
      "source": [
        "interpreter.set_tensor(input_index, X)\n",
        "interpreter.invoke()\n",
        "preds = interpreter.get_tensor(output_index)"
      ]
    },
    {
      "cell_type": "code",
      "execution_count": 40,
      "metadata": {
        "colab": {
          "base_uri": "https://localhost:8080/"
        },
        "id": "1XdUi9Eg8NRJ",
        "outputId": "1cb4a048-641f-44aa-c5b7-4918a08cc69d"
      },
      "outputs": [
        {
          "data": {
            "text/plain": [
              "{'dress': -1.8798652,\n",
              " 'hat': -4.7563086,\n",
              " 'longsleeve': -2.3595319,\n",
              " 'outwear': -1.0892631,\n",
              " 'pants': 9.903782,\n",
              " 'shirt': -2.8261807,\n",
              " 'shoes': -3.648309,\n",
              " 'shorts': 3.2411587,\n",
              " 'skirt': -2.6120942,\n",
              " 't-shirt': -4.8520336}"
            ]
          },
          "execution_count": 40,
          "metadata": {},
          "output_type": "execute_result"
        }
      ],
      "source": [
        "classes = [\n",
        "    'dress',\n",
        "    'hat',\n",
        "    'longsleeve',\n",
        "    'outwear',\n",
        "    'pants',\n",
        "    'shirt',\n",
        "    'shoes',\n",
        "    'shorts',\n",
        "    'skirt',\n",
        "    't-shirt'\n",
        "]\n",
        "\n",
        "dict(zip(classes, preds[0]))"
      ]
    }
  ],
  "metadata": {
    "colab": {
      "provenance": []
    },
    "kernelspec": {
      "display_name": "Python 3",
      "name": "python3"
    },
    "language_info": {
      "name": "python"
    }
  },
  "nbformat": 4,
  "nbformat_minor": 0
}
